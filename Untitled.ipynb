{
 "cells": [
  {
   "cell_type": "code",
   "execution_count": null,
   "id": "65bdb787-e70b-4bb2-982c-8c27a16d84a4",
   "metadata": {},
   "outputs": [],
   "source": []
  },
  {
   "cell_type": "code",
   "execution_count": null,
   "id": "72eb6987-4b9d-420f-9d6b-e69655bb7395",
   "metadata": {},
   "outputs": [],
   "source": [
    "import numpy as np\n",
    "import matplotlib.pyplot as plt\n",
    "from sklearn.linear_model import LinearRegression\n",
    "import pandas as pd\n",
    "\n",
    "rho = 1.225  # air density kg/m3\n",
    "g   = 9.81\n",
    "m   = p.m    # kart + driver mass from your params\n",
    "\n",
    "# 1) Select coast-down regions: throttle ≈ 0, brake ≈ 0\n",
    "mask = (lap_df[\"throttle\"] < 5) & (lap_df[\"brake\"] < 5)\n",
    "df_cd = lap_df.loc[mask].copy()\n",
    "\n",
    "# 2) Compute acceleration dv/dt\n",
    "v = df_cd[\"speed_mps\"].to_numpy()\n",
    "t = df_cd[\"time_s\"].to_numpy()\n",
    "dvdt = np.gradient(v, t)\n",
    "\n",
    "# 3) Build regression variables\n",
    "X = (v**2).reshape(-1, 1)   # predictor\n",
    "y = -dvdt                   # response (positive decel)\n",
    "\n",
    "# 4) Fit linear model\n",
    "reg = LinearRegression().fit(X, y)\n",
    "slope, intercept = reg.coef_[0], reg.intercept_\n",
    "\n",
    "CdA  = slope * (2*m/rho)\n",
    "Crr  = intercept / g\n",
    "\n",
    "print(f\"Fitted CdA = {CdA:.4f} m^2,  Crr = {Crr:.5f}\")\n",
    "\n",
    "# 5) Quick plot\n",
    "plt.scatter(v**2, -dvdt, s=4, alpha=0.3, label=\"data\")\n",
    "plt.plot(v**2, reg.predict(X), 'r', label=\"fit\")\n",
    "plt.xlabel(\"v^2 [m^2/s^2]\")\n",
    "plt.ylabel(\"-dv/dt [m/s^2]\")\n",
    "plt.legend(); plt.title(\"Coast-down regression\"); plt.show()\n"
   ]
  }
 ],
 "metadata": {
  "kernelspec": {
   "display_name": "Python (vdyn)",
   "language": "python",
   "name": "vdyn-venv"
  },
  "language_info": {
   "codemirror_mode": {
    "name": "ipython",
    "version": 3
   },
   "file_extension": ".py",
   "mimetype": "text/x-python",
   "name": "python",
   "nbconvert_exporter": "python",
   "pygments_lexer": "ipython3",
   "version": "3.12.3"
  }
 },
 "nbformat": 4,
 "nbformat_minor": 5
}
